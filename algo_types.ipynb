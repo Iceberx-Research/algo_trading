{
  "nbformat": 4,
  "nbformat_minor": 0,
  "metadata": {
    "colab": {
      "provenance": [],
      "toc_visible": true,
      "authorship_tag": "ABX9TyN/w50BF4DMAa6HkUiPp601",
      "include_colab_link": true
    },
    "kernelspec": {
      "name": "python3",
      "display_name": "Python 3"
    },
    "language_info": {
      "name": "python"
    }
  },
  "cells": [
    {
      "cell_type": "markdown",
      "metadata": {
        "id": "view-in-github",
        "colab_type": "text"
      },
      "source": [
        "<a href=\"https://colab.research.google.com/github/Iceberx-Research/algo_trading/blob/main/algo_types.ipynb\" target=\"_parent\"><img src=\"https://colab.research.google.com/assets/colab-badge.svg\" alt=\"Open In Colab\"/></a>"
      ]
    },
    {
      "cell_type": "markdown",
      "source": [
        "## Algo trading chapter 1"
      ],
      "metadata": {
        "id": "2SVgu-vNNRpC"
      }
    },
    {
      "cell_type": "code",
      "execution_count": 1,
      "metadata": {
        "id": "PXrVyYvBNQ6f"
      },
      "outputs": [],
      "source": [
        "from typing import List,Dict,Tuple,Any\n",
        "import numpy as np\n",
        "import datetime"
      ]
    },
    {
      "cell_type": "code",
      "source": [
        "#list of floting points\n",
        "v: List[float] = [i*1.23 for i in range(10)]"
      ],
      "metadata": {
        "id": "RFmDtNJrNVFr"
      },
      "execution_count": 2,
      "outputs": []
    },
    {
      "cell_type": "code",
      "source": [
        "#list of mixed type values\n",
        "v: List[Any] = ['apple',123,'banana',None]"
      ],
      "metadata": {
        "id": "C8cxjknyNZK0"
      },
      "execution_count": 8,
      "outputs": []
    },
    {
      "cell_type": "code",
      "source": [
        "#a distionaty of floats indexed by dates\n",
        "v: Dict[datetime.date,float] = {\n",
        "    datetime.date.today():123.456,\n",
        "    datetime.date(2000,1,1):234.567,\n",
        "}"
      ],
      "metadata": {
        "id": "pWjkUNkNNdhd"
      },
      "execution_count": 10,
      "outputs": []
    },
    {
      "cell_type": "code",
      "source": [
        "x: Dict[Tuple[int,int], List[str]]= {\n",
        "    (2,3):[\n",
        "        'apple',\n",
        "        'bananan',\n",
        "    ],\n",
        "    (2,3):[\n",
        "        'apple',\n",
        "        'bananan',\n",
        "    ]\n",
        "}\n",
        ""
      ],
      "metadata": {
        "id": "jgp-NU5sNyXS"
      },
      "execution_count": 21,
      "outputs": []
    },
    {
      "cell_type": "code",
      "source": [
        "v: List[Tuple[int,int,str]]=(1,2,\"a\"),(3,4,\"v\")"
      ],
      "metadata": {
        "id": "UPviyNmAPmQ5"
      },
      "execution_count": 28,
      "outputs": []
    },
    {
      "cell_type": "code",
      "source": [
        "#Custom types\n",
        "from typing import NewType\n",
        "StockTicker = NewType('StockTicker', str)\n",
        "ticker: StockTicker = \"AAPL\""
      ],
      "metadata": {
        "id": "cm0QnkWpQHFB"
      },
      "execution_count": 31,
      "outputs": []
    },
    {
      "cell_type": "code",
      "source": [
        "def convert_to_string(value: Any) -> str:\n",
        "  return str(value)"
      ],
      "metadata": {
        "id": "vwLh2AfHQHiV"
      },
      "execution_count": 34,
      "outputs": []
    },
    {
      "cell_type": "code",
      "source": [
        "convert_to_string(3)"
      ],
      "metadata": {
        "colab": {
          "base_uri": "https://localhost:8080/",
          "height": 35
        },
        "id": "JbOTcGraRO7m",
        "outputId": "a632d8a4-e4b1-47a6-c8b7-6ceae0a5fdd9"
      },
      "execution_count": 37,
      "outputs": [
        {
          "output_type": "execute_result",
          "data": {
            "text/plain": [
              "'3'"
            ],
            "application/vnd.google.colaboratory.intrinsic+json": {
              "type": "string"
            }
          },
          "metadata": {},
          "execution_count": 37
        }
      ]
    },
    {
      "cell_type": "markdown",
      "source": [
        "###Data frames and series\n"
      ],
      "metadata": {
        "id": "2oKRfl4CSvK1"
      }
    },
    {
      "cell_type": "code",
      "source": [
        "import pandas as pd\n",
        "import datetime"
      ],
      "metadata": {
        "id": "hJPnVm-pR6_l"
      },
      "execution_count": 42,
      "outputs": []
    },
    {
      "cell_type": "code",
      "source": [
        "data = {\n",
        "    \"SPY\" : {\n",
        "        datetime.date(2022,1,4):100,\n",
        "        datetime.date(2000,1,5):101,\n",
        "    },\n",
        "       \"AAPL\" : {\n",
        "        datetime.date(2022,1,4):100,\n",
        "        datetime.date(2000,1,5):101,\n",
        "    },\n",
        "}"
      ],
      "metadata": {
        "id": "4OohnPFOS-pF"
      },
      "execution_count": 44,
      "outputs": []
    },
    {
      "cell_type": "code",
      "source": [
        "df: pd.DataFrame = pd.DataFrame(data=data)\n",
        "print(df)"
      ],
      "metadata": {
        "colab": {
          "base_uri": "https://localhost:8080/"
        },
        "id": "UPTN5bilTUta",
        "outputId": "d57f06eb-b9e8-4959-9b5b-06383d282dd4"
      },
      "execution_count": 46,
      "outputs": [
        {
          "output_type": "stream",
          "name": "stdout",
          "text": [
            "            SPY  AAPL\n",
            "2022-01-04  100   100\n",
            "2000-01-05  101   101\n"
          ]
        }
      ]
    },
    {
      "cell_type": "code",
      "source": [
        "#Index by column\n",
        "aapl_series: pd.Series = df[\"AAPL\"]\n",
        "print(aapl_series)"
      ],
      "metadata": {
        "colab": {
          "base_uri": "https://localhost:8080/"
        },
        "id": "wEEd34SGTdVz",
        "outputId": "0468d783-d1e7-4fe4-caa6-6996c2cd06b5"
      },
      "execution_count": 47,
      "outputs": [
        {
          "output_type": "stream",
          "name": "stdout",
          "text": [
            "2022-01-04    100\n",
            "2000-01-05    101\n",
            "Name: AAPL, dtype: int64\n"
          ]
        }
      ]
    },
    {
      "cell_type": "code",
      "source": [],
      "metadata": {
        "id": "pJE3r3inT6ry"
      },
      "execution_count": null,
      "outputs": []
    }
  ]
}