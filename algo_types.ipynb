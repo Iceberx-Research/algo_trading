{
  "nbformat": 4,
  "nbformat_minor": 0,
  "metadata": {
    "colab": {
      "provenance": [],
      "toc_visible": true,
      "authorship_tag": "ABX9TyMPSzgtBTs2LCzyLI0F+WTd",
      "include_colab_link": true
    },
    "kernelspec": {
      "name": "python3",
      "display_name": "Python 3"
    },
    "language_info": {
      "name": "python"
    }
  },
  "cells": [
    {
      "cell_type": "markdown",
      "metadata": {
        "id": "view-in-github",
        "colab_type": "text"
      },
      "source": [
        "<a href=\"https://colab.research.google.com/github/Iceberx-Research/algo_trading/blob/main/algo_types.ipynb\" target=\"_parent\"><img src=\"https://colab.research.google.com/assets/colab-badge.svg\" alt=\"Open In Colab\"/></a>"
      ]
    },
    {
      "cell_type": "markdown",
      "source": [
        "## Algo trading chapter 1"
      ],
      "metadata": {
        "id": "2SVgu-vNNRpC"
      }
    },
    {
      "cell_type": "code",
      "execution_count": 1,
      "metadata": {
        "id": "PXrVyYvBNQ6f"
      },
      "outputs": [],
      "source": [
        "from typing import List,Dict,Tuple,Any\n",
        "import numpy as np\n",
        "import datetime"
      ]
    },
    {
      "cell_type": "code",
      "source": [
        "#list of floting points\n",
        "v: List[float] = [i*1.23 for i in range(10)]"
      ],
      "metadata": {
        "id": "RFmDtNJrNVFr"
      },
      "execution_count": 2,
      "outputs": []
    },
    {
      "cell_type": "code",
      "source": [
        "#list of mixed type values\n",
        "v: List[Any] = ['apple',123,'banana',None]"
      ],
      "metadata": {
        "id": "C8cxjknyNZK0"
      },
      "execution_count": 8,
      "outputs": []
    },
    {
      "cell_type": "code",
      "source": [
        "#a distionaty of floats indexed by dates\n",
        "v: Dict[datetime.date,float] = {\n",
        "    datetime.date.today():123.456,\n",
        "    datetime.date(2000,1,1):234.567,\n",
        "}"
      ],
      "metadata": {
        "colab": {
          "base_uri": "https://localhost:8080/",
          "height": 240
        },
        "id": "pWjkUNkNNdhd",
        "outputId": "e4b976fa-5c3e-4df3-e577-0a7248dda074"
      },
      "execution_count": 3,
      "outputs": [
        {
          "output_type": "error",
          "ename": "NameError",
          "evalue": "ignored",
          "traceback": [
            "\u001b[0;31m---------------------------------------------------------------------------\u001b[0m",
            "\u001b[0;31mNameError\u001b[0m                                 Traceback (most recent call last)",
            "\u001b[0;32m<ipython-input-3-87ba60e804ce>\u001b[0m in \u001b[0;36m<cell line: 2>\u001b[0;34m()\u001b[0m\n\u001b[1;32m      1\u001b[0m \u001b[0;31m#a distionaty of floats indexed by dates\u001b[0m\u001b[0;34m\u001b[0m\u001b[0;34m\u001b[0m\u001b[0m\n\u001b[0;32m----> 2\u001b[0;31m v: Dict[datetime.date,float] = {\n\u001b[0m\u001b[1;32m      3\u001b[0m     \u001b[0mdatetime\u001b[0m\u001b[0;34m.\u001b[0m\u001b[0mdate\u001b[0m\u001b[0;34m.\u001b[0m\u001b[0mtoday\u001b[0m\u001b[0;34m(\u001b[0m\u001b[0;34m)\u001b[0m\u001b[0;34m:\u001b[0m\u001b[0;36m123.456\u001b[0m\u001b[0;34m,\u001b[0m\u001b[0;34m\u001b[0m\u001b[0;34m\u001b[0m\u001b[0m\n\u001b[1;32m      4\u001b[0m     \u001b[0mdatetime\u001b[0m\u001b[0;34m.\u001b[0m\u001b[0mdate\u001b[0m\u001b[0;34m(\u001b[0m\u001b[0;36m2000\u001b[0m\u001b[0;34m,\u001b[0m\u001b[0;36m1\u001b[0m\u001b[0;34m,\u001b[0m\u001b[0;36m1\u001b[0m\u001b[0;34m)\u001b[0m\u001b[0;34m:\u001b[0m\u001b[0;36m234.567\u001b[0m\u001b[0;34m,\u001b[0m\u001b[0;34m\u001b[0m\u001b[0;34m\u001b[0m\u001b[0m\n\u001b[1;32m      5\u001b[0m } \n",
            "\u001b[0;31mNameError\u001b[0m: name 'Dict' is not defined"
          ]
        }
      ]
    },
    {
      "cell_type": "code",
      "source": [
        "x: Dict[Tuple[int,int], List[str]]= {\n",
        "    (2,3):[\n",
        "        'apple',\n",
        "        'bananan',\n",
        "    ],\n",
        "    (2,3):[\n",
        "        'apple',\n",
        "        'bananan',\n",
        "    ]\n",
        "}\n",
        ""
      ],
      "metadata": {
        "colab": {
          "base_uri": "https://localhost:8080/",
          "height": 240
        },
        "id": "jgp-NU5sNyXS",
        "outputId": "a26b901a-0a1b-4091-9616-2320c5657745"
      },
      "execution_count": 4,
      "outputs": [
        {
          "output_type": "error",
          "ename": "NameError",
          "evalue": "ignored",
          "traceback": [
            "\u001b[0;31m---------------------------------------------------------------------------\u001b[0m",
            "\u001b[0;31mNameError\u001b[0m                                 Traceback (most recent call last)",
            "\u001b[0;32m<ipython-input-4-3d3767370a45>\u001b[0m in \u001b[0;36m<cell line: 1>\u001b[0;34m()\u001b[0m\n\u001b[0;32m----> 1\u001b[0;31m x: Dict[Tuple[int,int], List[str]]= {\n\u001b[0m\u001b[1;32m      2\u001b[0m     (2,3):[\n\u001b[1;32m      3\u001b[0m         \u001b[0;34m'apple'\u001b[0m\u001b[0;34m,\u001b[0m\u001b[0;34m\u001b[0m\u001b[0;34m\u001b[0m\u001b[0m\n\u001b[1;32m      4\u001b[0m         \u001b[0;34m'bananan'\u001b[0m\u001b[0;34m,\u001b[0m\u001b[0;34m\u001b[0m\u001b[0;34m\u001b[0m\u001b[0m\n\u001b[1;32m      5\u001b[0m     ],\n",
            "\u001b[0;31mNameError\u001b[0m: name 'Dict' is not defined"
          ]
        }
      ]
    },
    {
      "cell_type": "code",
      "source": [
        "v: List[Tuple[int,int,str]]=(1,2,\"a\"),(3,4,\"v\")"
      ],
      "metadata": {
        "colab": {
          "base_uri": "https://localhost:8080/",
          "height": 169
        },
        "id": "UPviyNmAPmQ5",
        "outputId": "82668188-9d18-4c14-ee59-f72728fa5a60"
      },
      "execution_count": 5,
      "outputs": [
        {
          "output_type": "error",
          "ename": "NameError",
          "evalue": "ignored",
          "traceback": [
            "\u001b[0;31m---------------------------------------------------------------------------\u001b[0m",
            "\u001b[0;31mNameError\u001b[0m                                 Traceback (most recent call last)",
            "\u001b[0;32m<ipython-input-5-09746e574075>\u001b[0m in \u001b[0;36m<cell line: 1>\u001b[0;34m()\u001b[0m\n\u001b[0;32m----> 1\u001b[0;31m \u001b[0mv\u001b[0m\u001b[0;34m:\u001b[0m \u001b[0mList\u001b[0m\u001b[0;34m[\u001b[0m\u001b[0mTuple\u001b[0m\u001b[0;34m[\u001b[0m\u001b[0mint\u001b[0m\u001b[0;34m,\u001b[0m\u001b[0mint\u001b[0m\u001b[0;34m,\u001b[0m\u001b[0mstr\u001b[0m\u001b[0;34m]\u001b[0m\u001b[0;34m]\u001b[0m\u001b[0;34m=\u001b[0m\u001b[0;34m(\u001b[0m\u001b[0;36m1\u001b[0m\u001b[0;34m,\u001b[0m\u001b[0;36m2\u001b[0m\u001b[0;34m,\u001b[0m\u001b[0;34m\"a\"\u001b[0m\u001b[0;34m)\u001b[0m\u001b[0;34m,\u001b[0m\u001b[0;34m(\u001b[0m\u001b[0;36m3\u001b[0m\u001b[0;34m,\u001b[0m\u001b[0;36m4\u001b[0m\u001b[0;34m,\u001b[0m\u001b[0;34m\"v\"\u001b[0m\u001b[0;34m)\u001b[0m\u001b[0;34m\u001b[0m\u001b[0;34m\u001b[0m\u001b[0m\n\u001b[0m",
            "\u001b[0;31mNameError\u001b[0m: name 'List' is not defined"
          ]
        }
      ]
    },
    {
      "cell_type": "code",
      "source": [
        "#Custom types\n",
        "from typing import NewType\n",
        "StockTicker = NewType('StockTicker', str)\n",
        "ticker: StockTicker = \"AAPL\""
      ],
      "metadata": {
        "id": "cm0QnkWpQHFB"
      },
      "execution_count": null,
      "outputs": []
    },
    {
      "cell_type": "code",
      "source": [
        "def convert_to_string(value: Any) -> str:\n",
        "  return str(value)"
      ],
      "metadata": {
        "colab": {
          "base_uri": "https://localhost:8080/",
          "height": 187
        },
        "id": "vwLh2AfHQHiV",
        "outputId": "84bbbf53-7908-41a7-f6d0-191869191124"
      },
      "execution_count": 6,
      "outputs": [
        {
          "output_type": "error",
          "ename": "NameError",
          "evalue": "ignored",
          "traceback": [
            "\u001b[0;31m---------------------------------------------------------------------------\u001b[0m",
            "\u001b[0;31mNameError\u001b[0m                                 Traceback (most recent call last)",
            "\u001b[0;32m<ipython-input-6-6ea2f0e27e17>\u001b[0m in \u001b[0;36m<cell line: 1>\u001b[0;34m()\u001b[0m\n\u001b[0;32m----> 1\u001b[0;31m \u001b[0;32mdef\u001b[0m \u001b[0mconvert_to_string\u001b[0m\u001b[0;34m(\u001b[0m\u001b[0mvalue\u001b[0m\u001b[0;34m:\u001b[0m \u001b[0mAny\u001b[0m\u001b[0;34m)\u001b[0m \u001b[0;34m->\u001b[0m \u001b[0mstr\u001b[0m\u001b[0;34m:\u001b[0m\u001b[0;34m\u001b[0m\u001b[0;34m\u001b[0m\u001b[0m\n\u001b[0m\u001b[1;32m      2\u001b[0m   \u001b[0;32mreturn\u001b[0m \u001b[0mstr\u001b[0m\u001b[0;34m(\u001b[0m\u001b[0mvalue\u001b[0m\u001b[0;34m)\u001b[0m\u001b[0;34m\u001b[0m\u001b[0;34m\u001b[0m\u001b[0m\n",
            "\u001b[0;31mNameError\u001b[0m: name 'Any' is not defined"
          ]
        }
      ]
    },
    {
      "cell_type": "code",
      "source": [
        "convert_to_string(3)"
      ],
      "metadata": {
        "id": "JbOTcGraRO7m"
      },
      "execution_count": null,
      "outputs": []
    },
    {
      "cell_type": "markdown",
      "source": [
        "###Data frames and series\n"
      ],
      "metadata": {
        "id": "2oKRfl4CSvK1"
      }
    },
    {
      "cell_type": "code",
      "source": [
        "import pandas as pd\n",
        "import datetime"
      ],
      "metadata": {
        "id": "hJPnVm-pR6_l"
      },
      "execution_count": 7,
      "outputs": []
    },
    {
      "cell_type": "code",
      "source": [
        "data = {\n",
        "    \"SPY\" : {\n",
        "        datetime.date(2022,1,4):100,\n",
        "        datetime.date(2000,1,5):101,\n",
        "    },\n",
        "       \"AAPL\" : {\n",
        "        datetime.date(2022,1,4):100,\n",
        "        datetime.date(2000,1,5):101,\n",
        "    },\n",
        "}"
      ],
      "metadata": {
        "id": "4OohnPFOS-pF"
      },
      "execution_count": 8,
      "outputs": []
    },
    {
      "cell_type": "code",
      "source": [
        "df: pd.DataFrame = pd.DataFrame(data=data)\n",
        "print(df)"
      ],
      "metadata": {
        "colab": {
          "base_uri": "https://localhost:8080/"
        },
        "id": "UPTN5bilTUta",
        "outputId": "4237afe3-d0b3-4200-e80e-ab501fd03ddd"
      },
      "execution_count": 9,
      "outputs": [
        {
          "output_type": "stream",
          "name": "stdout",
          "text": [
            "            SPY  AAPL\n",
            "2022-01-04  100   100\n",
            "2000-01-05  101   101\n"
          ]
        }
      ]
    },
    {
      "cell_type": "code",
      "source": [
        "#Index by column\n",
        "aapl_series: pd.Series = df[\"AAPL\"]\n",
        "print(aapl_series)"
      ],
      "metadata": {
        "colab": {
          "base_uri": "https://localhost:8080/"
        },
        "id": "wEEd34SGTdVz",
        "outputId": "42ba8819-901d-43ec-8ab4-f0a6a1b78052"
      },
      "execution_count": 10,
      "outputs": [
        {
          "output_type": "stream",
          "name": "stdout",
          "text": [
            "2022-01-04    100\n",
            "2000-01-05    101\n",
            "Name: AAPL, dtype: int64\n"
          ]
        }
      ]
    },
    {
      "cell_type": "code",
      "source": [
        "#Indeeex by row\n",
        "start_of_year_row: pd.Series = df.loc[datetime.date(2022,1,4)]\n",
        "print(start_of_year_row)"
      ],
      "metadata": {
        "colab": {
          "base_uri": "https://localhost:8080/"
        },
        "id": "pJE3r3inT6ry",
        "outputId": "52b25c39-36c6-49a5-c967-8cf3d62b18b2"
      },
      "execution_count": 11,
      "outputs": [
        {
          "output_type": "stream",
          "name": "stdout",
          "text": [
            "SPY     100\n",
            "AAPL    100\n",
            "Name: 2022-01-04, dtype: int64\n"
          ]
        }
      ]
    },
    {
      "cell_type": "code",
      "source": [
        "#Index by both\n",
        "start_of_year_price: pd.Series = df['AAPL'][datetime.date(2022,1,4)]\n",
        "print(start_of_year_price)"
      ],
      "metadata": {
        "colab": {
          "base_uri": "https://localhost:8080/"
        },
        "id": "iaE2et2pVDMi",
        "outputId": "0565e0e0-bd0b-4487-851e-a0fd73e7ccd0"
      },
      "execution_count": 12,
      "outputs": [
        {
          "output_type": "stream",
          "name": "stdout",
          "text": [
            "100\n"
          ]
        }
      ]
    },
    {
      "cell_type": "code",
      "source": [
        "# create a series\n",
        "series = pd.Series(data=data[\"SPY\"])\n",
        "print(series)"
      ],
      "metadata": {
        "colab": {
          "base_uri": "https://localhost:8080/"
        },
        "id": "ngS4kfwVV2dw",
        "outputId": "1d14bb8c-7e5d-42cd-d0a5-28e11acd31f5"
      },
      "execution_count": 15,
      "outputs": [
        {
          "output_type": "stream",
          "name": "stdout",
          "text": [
            "2022-01-04    100\n",
            "2000-01-05    101\n",
            "dtype: int64\n"
          ]
        }
      ]
    },
    {
      "cell_type": "markdown",
      "source": [
        "###Time complexity in pandas"
      ],
      "metadata": {
        "id": "B_oDrUyow1wE"
      }
    },
    {
      "cell_type": "code",
      "source": [
        "test = datetime.datetime(2000,1,1)"
      ],
      "metadata": {
        "id": "epLfAY5Pvx6f"
      },
      "execution_count": 30,
      "outputs": []
    },
    {
      "cell_type": "code",
      "source": [
        "dates = [datetime.date(2000,1,i) for i in range(1,11)]\n",
        "values = [i**2 for i in range(1,11)]\n",
        "series = pd.Series(data=values,index=dates)\n",
        "\n",
        "print(series)"
      ],
      "metadata": {
        "id": "7JeTmi-kwhpw"
      },
      "execution_count": null,
      "outputs": []
    },
    {
      "cell_type": "code",
      "source": [
        "#o(n) time complexity search through a list\n",
        "print(datetime.date(2000,1,5) in dates)"
      ],
      "metadata": {
        "colab": {
          "base_uri": "https://localhost:8080/"
        },
        "id": "up5v4EBkwi3i",
        "outputId": "ffe5b567-a066-4f54-83cd-f16b072fa428"
      },
      "execution_count": 40,
      "outputs": [
        {
          "output_type": "stream",
          "name": "stdout",
          "text": [
            "True\n"
          ]
        }
      ]
    },
    {
      "cell_type": "code",
      "source": [
        "#o(n) time complexity search through an index\n",
        "print(datetime.date(2000,1,5) in series.index)"
      ],
      "metadata": {
        "colab": {
          "base_uri": "https://localhost:8080/"
        },
        "id": "1IMqrdilwkun",
        "outputId": "95e61451-551b-4c2d-a19e-cc06b642a9dd"
      },
      "execution_count": 42,
      "outputs": [
        {
          "output_type": "stream",
          "name": "stdout",
          "text": [
            "True\n"
          ]
        }
      ]
    },
    {
      "cell_type": "markdown",
      "source": [
        "## Chapter 2 Performance metric"
      ],
      "metadata": {
        "id": "Y5j1qfwEzTcN"
      }
    },
    {
      "cell_type": "code",
      "source": [],
      "metadata": {
        "id": "DJID-HGzx_nP"
      },
      "execution_count": null,
      "outputs": []
    }
  ]
}